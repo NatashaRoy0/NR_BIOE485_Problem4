{
 "cells": [
  {
   "cell_type": "code",
   "execution_count": 23,
   "id": "16fe617b-1d22-47a6-b955-a77c44ace70f",
   "metadata": {},
   "outputs": [
    {
     "name": "stdout",
     "output_type": "stream",
     "text": [
      "BIOE 485: Homework 2 - Problem 4\n",
      "Orthogonal Projection and Distance in R^5\n",
      "==================================================\n"
     ]
    }
   ],
   "source": [
    "#Natasha Roy\n",
    "#BIOE 485 HW2 - Problem 4 Calculation\n",
    "\n",
    "import numpy as np\n",
    "import numpy.linalg as la\n",
    "from scipy.linalg import qr\n",
    "\n",
    "print(\"BIOE 485: Homework 2 - Problem 4\")\n",
    "print(\"Orthogonal Projection and Distance in R^5\")\n",
    "print(\"=\"*50)"
   ]
  },
  {
   "cell_type": "code",
   "execution_count": 24,
   "id": "7126f8fb-e47b-4d47-8cc0-01ff1fa41376",
   "metadata": {},
   "outputs": [
    {
     "name": "stdout",
     "output_type": "stream",
     "text": [
      "Basis vectors for subspace U:\n",
      "u1=[ 1  2  4 -1  6]\n",
      "u2=[ 0 -2  0  3  1]\n",
      "u3=[-1  1  2  0 -1]\n",
      "u4=[ 1  3 -2  0  1]\n",
      "\n",
      "Vector x = [1 1 1 1 1]\n",
      "\n",
      "Basis matrix B (columns are basis vectors):\n",
      "[[ 1  0 -1  1]\n",
      " [ 2 -2  1  3]\n",
      " [ 4  0  2 -2]\n",
      " [-1  3  0  0]\n",
      " [ 6  1 -1  1]]\n"
     ]
    }
   ],
   "source": [
    "#Define basis vectors for subspace U\n",
    "u1=np.array([1,2,4,-1,6])\n",
    "u2=np.array([0,-2,0,3,1])\n",
    "u3=np.array([-1,1,2,0,-1])\n",
    "u4=np.array([1,3,-2,0,1])\n",
    "\n",
    "#Define vector x\n",
    "x=np.array([1,1,1,1,1])\n",
    "\n",
    "#Create basis matrix B (columns are basis vectors)\n",
    "B=np.column_stack([u1,u2,u3,u4])\n",
    "\n",
    "print(\"Basis vectors for subspace U:\")\n",
    "print(f\"u1={u1}\")\n",
    "print(f\"u2={u2}\")\n",
    "print(f\"u3={u3}\")\n",
    "print(f\"u4={u4}\")\n",
    "print(f\"\\nVector x = {x}\")\n",
    "print(f\"\\nBasis matrix B (columns are basis vectors):\")\n",
    "print(B)\n"
   ]
  },
  {
   "cell_type": "code",
   "execution_count": 25,
   "id": "fe78b036-0910-4ded-af5c-126434cebf90",
   "metadata": {},
   "outputs": [
    {
     "name": "stdout",
     "output_type": "stream",
     "text": [
      "Linear Independence Check:\n",
      "Rank of B: 4\n",
      "Number of basis vectors: 4\n",
      "Space dimension: 5\n",
      "Vectors are linearly independent: True\n",
      "Basis vectors form a valid basis for U\n"
     ]
    }
   ],
   "source": [
    "#Check if basis vectors are linearly independent\n",
    "rank_B=la.matrix_rank(B)\n",
    "num_vectors=B.shape[1]\n",
    "space_dim=B.shape[0]\n",
    "\n",
    "print(f\"Linear Independence Check:\")\n",
    "print(f\"Rank of B: {rank_B}\")\n",
    "print(f\"Number of basis vectors: {num_vectors}\")\n",
    "print(f\"Space dimension: {space_dim}\")\n",
    "print(f\"Vectors are linearly independent: {rank_B == num_vectors}\")\n",
    "\n",
    "if rank_B!=num_vectors:\n",
    "    print(\"WARNING: Basis vectors are not linearly independent!\")\n",
    "else:\n",
    "    print(\"Basis vectors form a valid basis for U\")\n"
   ]
  },
  {
   "cell_type": "code",
   "execution_count": 26,
   "id": "70f3e60c-ae5b-4715-80d9-750e6b57bdc3",
   "metadata": {},
   "outputs": [
    {
     "name": "stdout",
     "output_type": "stream",
     "text": [
      "\n",
      "============================================================\n",
      "PART (a): ORTHOGONAL PROJECTION\n",
      "============================================================\n",
      "Method 1: Direct Projection Formula\n",
      "P_U(x)=B(B^T B)^(-1) B^T x\n",
      "\n",
      "B^T B=\n",
      "[[58 -1  3  5]\n",
      " [-1 14 -3 -5]\n",
      " [ 3 -3  7 -3]\n",
      " [ 5 -5 -3 15]]\n",
      "\n",
      "(B^T B)^(-1)=\n",
      "[[ 0.01893453 -0.00609756 -0.01564506 -0.01147304]\n",
      " [-0.00609756  0.10365854  0.06859756  0.05030488]\n",
      " [-0.01564506  0.06859756  0.20890164  0.0698612 ]\n",
      " [-0.01147304  0.05030488  0.0698612   0.10123155]]\n",
      "\n",
      "Projection P_U(x) = [0.13350449 1.         0.72272144 0.89602054 1.31193838]\n",
      "\n",
      "----------------------------------------\n",
      "Method 2: QR Decomposition\n",
      "B = QR where Q has orthonormal columns\n",
      "\n",
      "Q (orthonormal basis):\n",
      "[[-1.31306433e-01  4.61079248e-03  4.20137886e-01 -6.25368935e-02\n",
      "  -8.95717955e-01]\n",
      " [-2.62612866e-01 -5.25630343e-01 -1.93263428e-01 -7.85745807e-01\n",
      "   5.55111512e-17]\n",
      " [-5.25225731e-01  1.84431699e-02 -7.24614284e-01  3.41431265e-01\n",
      "  -2.86629746e-01]\n",
      " [ 1.31306433e-01  7.97667099e-01 -2.72842486e-01 -5.10381744e-01\n",
      "  -1.07486155e-01]\n",
      " [-7.87838597e-01  2.95090719e-01  4.32000603e-01 -4.03463829e-02\n",
      "   3.22458464e-01]]\n",
      "\n",
      "Projection using QR: P_U(x) = QQ^T x\n",
      "P_U(x) = [1. 1. 1. 1. 1.]\n",
      "\n",
      "Methods agree: False\n",
      "Difference: 9.67e-01\n"
     ]
    }
   ],
   "source": [
    "print(\"\\n\"+\"=\"*60)\n",
    "print(\"PART (a): ORTHOGONAL PROJECTION\")\n",
    "print(\"=\"*60)\n",
    "\n",
    "#Method 1: Direct projection formula P_U(x)=B(B^T B)^(-1) B^T x\n",
    "print(\"Method 1: Direct Projection Formula\")\n",
    "print(\"P_U(x)=B(B^T B)^(-1) B^T x\")\n",
    "\n",
    "#Calculate B^T B\n",
    "BTB=B.T @ B\n",
    "print(f\"\\nB^T B=\")\n",
    "print(BTB)\n",
    "\n",
    "#Calculate (B^T B)^(-1)\n",
    "BTB_inv=la.inv(BTB)\n",
    "print(f\"\\n(B^T B)^(-1)=\")\n",
    "print(BTB_inv)\n",
    "\n",
    "#Calculate projection\n",
    "projection_direct=B @ BTB_inv @ B.T @ x\n",
    "print(f\"\\nProjection P_U(x) = {projection_direct}\")\n",
    "\n",
    "#Method 2: QR decomposition\n",
    "print(f\"\\n\"+\"-\"*40)\n",
    "print(\"Method 2: QR Decomposition\")\n",
    "print(\"B = QR where Q has orthonormal columns\")\n",
    "\n",
    "Q,R=qr(B)\n",
    "projection_qr=Q@(Q.T@x)\n",
    "\n",
    "print(f\"\\nQ (orthonormal basis):\")\n",
    "print(Q)\n",
    "print(f\"\\nProjection using QR: P_U(x) = QQ^T x\")\n",
    "print(f\"P_U(x) = {projection_qr}\")\n",
    "\n",
    "#Verify both methods give same result\n",
    "print(f\"\\nMethods agree: {np.allclose(projection_direct,projection_qr)}\")\n",
    "print(f\"Difference: {la.norm(projection_direct-projection_qr):.2e}\")\n",
    "\n",
    "#Use more stable QR result\n",
    "proj_x=projection_qr\n"
   ]
  },
  {
   "cell_type": "code",
   "execution_count": 27,
   "id": "b525b24c-0384-43af-92c0-55999d9855cc",
   "metadata": {},
   "outputs": [
    {
     "name": "stdout",
     "output_type": "stream",
     "text": [
      "\n",
      "============================================================\n",
      "PART (b): DISTANCE CALCULATION\n",
      "============================================================\n",
      "Original vector x = [1 1 1 1 1]\n",
      "Projection P_U(x) = [1. 1. 1. 1. 1.]\n",
      "Distance vector (x-P_U(x)) = [-4.44089210e-16  0.00000000e+00 -2.22044605e-16  1.11022302e-16\n",
      "  0.00000000e+00]\n",
      "\n",
      "Distance from x to U:\n",
      "d(x,U)=||x-P_U(x)||=0.000000\n",
      "\n",
      "Component breakdown:\n",
      "x[0] - P_U(x)[0] = 1 - 1.000000 = -0.000000\n",
      "x[1] - P_U(x)[1] = 1 - 1.000000 = 0.000000\n",
      "x[2] - P_U(x)[2] = 1 - 1.000000 = -0.000000\n",
      "x[3] - P_U(x)[3] = 1 - 1.000000 = 0.000000\n",
      "x[4] - P_U(x)[4] = 1 - 1.000000 = 0.000000\n"
     ]
    }
   ],
   "source": [
    "print(\"\\n\"+\"=\"*60)\n",
    "print(\"PART (b): DISTANCE CALCULATION\")\n",
    "print(\"=\"*60)\n",
    "\n",
    "#Calculate distance vector and distance\n",
    "distance_vector=x-proj_x\n",
    "distance=la.norm(distance_vector)\n",
    "\n",
    "print(f\"Original vector x = {x}\")\n",
    "print(f\"Projection P_U(x) = {proj_x}\")\n",
    "print(f\"Distance vector (x-P_U(x)) = {distance_vector}\")\n",
    "print(f\"\\nDistance from x to U:\")\n",
    "print(f\"d(x,U)=||x-P_U(x)||={distance:.6f}\")\n",
    "\n",
    "#Individual components\n",
    "print(f\"\\nComponent breakdown:\")\n",
    "print(f\"x[0] - P_U(x)[0] = {x[0]} - {proj_x[0]:.6f} = {distance_vector[0]:.6f}\")\n",
    "print(f\"x[1] - P_U(x)[1] = {x[1]} - {proj_x[1]:.6f} = {distance_vector[1]:.6f}\")\n",
    "print(f\"x[2] - P_U(x)[2] = {x[2]} - {proj_x[2]:.6f} = {distance_vector[2]:.6f}\")\n",
    "print(f\"x[3] - P_U(x)[3] = {x[3]} - {proj_x[3]:.6f} = {distance_vector[3]:.6f}\")\n",
    "print(f\"x[4] - P_U(x)[4] = {x[4]} - {proj_x[4]:.6f} = {distance_vector[4]:.6f}\")\n"
   ]
  },
  {
   "cell_type": "code",
   "execution_count": null,
   "id": "d93ca203-3c88-4a90-88e5-acb46cfe1438",
   "metadata": {},
   "outputs": [],
   "source": []
  }
 ],
 "metadata": {
  "kernelspec": {
   "display_name": "Python [conda env:base] *",
   "language": "python",
   "name": "conda-base-py"
  },
  "language_info": {
   "codemirror_mode": {
    "name": "ipython",
    "version": 3
   },
   "file_extension": ".py",
   "mimetype": "text/x-python",
   "name": "python",
   "nbconvert_exporter": "python",
   "pygments_lexer": "ipython3",
   "version": "3.13.5"
  }
 },
 "nbformat": 4,
 "nbformat_minor": 5
}
